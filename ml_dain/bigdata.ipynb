{
 "cells": [
  {
   "cell_type": "markdown",
   "id": "4d6a77d7",
   "metadata": {},
   "source": [
    "# Import Libraries"
   ]
  },
  {
   "cell_type": "code",
   "execution_count": 27,
   "id": "52c13f33",
   "metadata": {},
   "outputs": [],
   "source": [
    "import numpy as np\n",
    "import pandas as pd\n",
    "import seaborn as sns\n",
    "import matplotlib.pyplot as plt\n",
    "\n",
    "from sklearn.model_selection import train_test_split\n",
    "from sklearn.model_selection import KFold, cross_val_score, cross_val_predict\n",
    "from sklearn import metrics\n",
    "\n",
    "from sklearn import svm\n",
    "from sklearn.linear_model import LogisticRegression\n",
    "from sklearn.ensemble import RandomForestClassifier\n",
    "from sklearn.neighbors import KNeighborsClassifier\n",
    "from sklearn.tree import DecisionTreeClassifier"
   ]
  },
  {
   "cell_type": "markdown",
   "id": "d4be952a",
   "metadata": {},
   "source": [
    "# Check Data"
   ]
  },
  {
   "cell_type": "code",
   "execution_count": 97,
   "id": "f2afcc3e",
   "metadata": {
    "scrolled": true
   },
   "outputs": [],
   "source": [
    "train = pd.read_csv('train.csv')\n",
    "\n",
    "# 전처리\n",
    "# column 삭제\n",
    "train.drop(columns = ['fnlwgt','education','race','gender'],inplace = True)\n",
    "\n",
    "# work\n",
    "train['workclass'] = train['workclass'].fillna('None')\n",
    "train = train.drop(train[(train['workclass'] == 'Never-worked')].index)\n",
    "\n",
    "# 직업이 'Armed-Forces', 'Other-service', 'Priv-house-serv' 인 것 제거\n",
    "train['occupation'] = train['occupation'].fillna('None')\n",
    "train = train.drop(train[(train['occupation'] == 'Armed-Forces') | (train['occupation'] == 'Other-service') \n",
    "                         | (train['occupation'] == 'Priv-house-serv')].index)\n",
    "\n",
    "\n",
    "# native - country 가 us 에 대해서만\n",
    "train = train[train['native-country'] == 'United-States' ]\n",
    "train= train.drop('native-country', axis = 1)\n",
    "\n",
    "# 1에 대한 데이터는 많이 존재하지 않기 때문\n",
    "train = train[train['educational-num'] != 1]\n",
    "\n",
    "# column 명 바꿈\n",
    "train = train.rename(columns={'income_>50K':'income'})"
   ]
  },
  {
   "cell_type": "markdown",
   "id": "e050441b",
   "metadata": {},
   "source": [
    "# for those of who whose native country is United-States\n",
    "train = train[train['native-country'] == 'United-States' ]\n",
    "train = train[train['educational-num'] != 1]\n",
    "train= train.drop('native-country', axis = 1)"
   ]
  },
  {
   "cell_type": "markdown",
   "id": "9635cd1c",
   "metadata": {},
   "source": [
    "sorted(train['occupation'].unique().tolist())"
   ]
  },
  {
   "cell_type": "markdown",
   "id": "cf8e4de6",
   "metadata": {},
   "source": [
    "train = train.drop(train[(train['workclass'] == 'Never-worked')].index)"
   ]
  },
  {
   "cell_type": "markdown",
   "id": "75e52055",
   "metadata": {},
   "source": [
    "sorted(train['workclass'].unique().tolist())"
   ]
  },
  {
   "cell_type": "code",
   "execution_count": 98,
   "id": "5f3b1aaf",
   "metadata": {},
   "outputs": [],
   "source": [
    "def edufunc(x):\n",
    "    if x in [2,3]:\n",
    "        return 0\n",
    "        # return 'ES'\n",
    "    elif x in [4]:\n",
    "        return 1\n",
    "        # return 'MS'\n",
    "    elif x in [5,6,7,8]:\n",
    "        return 2\n",
    "        # return 'HS'\n",
    "    elif x == 9:\n",
    "        return 3\n",
    "        # return 'HS-grad'\n",
    "        \n",
    "        \n",
    "    elif x == 10:\n",
    "        return 4\n",
    "        # return 'Some-college'\n",
    "    elif x == 11:\n",
    "        return 5\n",
    "        # return 'Assoc-voc'\n",
    "    elif x == 12:\n",
    "        return 6\n",
    "        # return 'Assoc-acdm'\n",
    "    elif x == 13:\n",
    "        return 7\n",
    "        # return 'Bachelors'\n",
    "    elif x == 14:\n",
    "        return 8\n",
    "        # return 'Masters'\n",
    "    elif x == 15:\n",
    "        return 9\n",
    "        # return 'Prof-school'\n",
    "    elif x == 16:\n",
    "        return 10\n",
    "        # return 'Doctorate'\n",
    "    "
   ]
  },
  {
   "cell_type": "code",
   "execution_count": 99,
   "id": "1026e65f",
   "metadata": {},
   "outputs": [],
   "source": [
    "train['educational-num'] = train['educational-num'].map(edufunc)"
   ]
  },
  {
   "cell_type": "code",
   "execution_count": 100,
   "id": "9798d481",
   "metadata": {},
   "outputs": [],
   "source": [
    "def hw(x):\n",
    "    if x == 'Husband' or x == 'Wife':\n",
    "        return 'H&W'\n",
    "    else:\n",
    "        return x"
   ]
  },
  {
   "cell_type": "code",
   "execution_count": 101,
   "id": "776bde2a",
   "metadata": {},
   "outputs": [],
   "source": [
    "train['relationship'] = train['relationship'].map(hw)"
   ]
  },
  {
   "cell_type": "code",
   "execution_count": 102,
   "id": "cce4b689",
   "metadata": {
    "scrolled": true
   },
   "outputs": [
    {
     "data": {
      "text/html": [
       "<div>\n",
       "<style scoped>\n",
       "    .dataframe tbody tr th:only-of-type {\n",
       "        vertical-align: middle;\n",
       "    }\n",
       "\n",
       "    .dataframe tbody tr th {\n",
       "        vertical-align: top;\n",
       "    }\n",
       "\n",
       "    .dataframe thead th {\n",
       "        text-align: right;\n",
       "    }\n",
       "</style>\n",
       "<table border=\"1\" class=\"dataframe\">\n",
       "  <thead>\n",
       "    <tr style=\"text-align: right;\">\n",
       "      <th></th>\n",
       "      <th>age</th>\n",
       "      <th>workclass</th>\n",
       "      <th>educational-num</th>\n",
       "      <th>marital-status</th>\n",
       "      <th>occupation</th>\n",
       "      <th>relationship</th>\n",
       "      <th>capital-gain</th>\n",
       "      <th>capital-loss</th>\n",
       "      <th>hours-per-week</th>\n",
       "      <th>income</th>\n",
       "    </tr>\n",
       "  </thead>\n",
       "  <tbody>\n",
       "    <tr>\n",
       "      <th>0</th>\n",
       "      <td>67</td>\n",
       "      <td>Private</td>\n",
       "      <td>10</td>\n",
       "      <td>Divorced</td>\n",
       "      <td>Exec-managerial</td>\n",
       "      <td>Not-in-family</td>\n",
       "      <td>99999</td>\n",
       "      <td>0</td>\n",
       "      <td>60</td>\n",
       "      <td>1</td>\n",
       "    </tr>\n",
       "    <tr>\n",
       "      <th>2</th>\n",
       "      <td>31</td>\n",
       "      <td>Private</td>\n",
       "      <td>7</td>\n",
       "      <td>Married-civ-spouse</td>\n",
       "      <td>Exec-managerial</td>\n",
       "      <td>H&amp;W</td>\n",
       "      <td>0</td>\n",
       "      <td>0</td>\n",
       "      <td>40</td>\n",
       "      <td>1</td>\n",
       "    </tr>\n",
       "    <tr>\n",
       "      <th>3</th>\n",
       "      <td>58</td>\n",
       "      <td>State-gov</td>\n",
       "      <td>1</td>\n",
       "      <td>Married-civ-spouse</td>\n",
       "      <td>Transport-moving</td>\n",
       "      <td>H&amp;W</td>\n",
       "      <td>0</td>\n",
       "      <td>0</td>\n",
       "      <td>40</td>\n",
       "      <td>0</td>\n",
       "    </tr>\n",
       "    <tr>\n",
       "      <th>5</th>\n",
       "      <td>59</td>\n",
       "      <td>State-gov</td>\n",
       "      <td>3</td>\n",
       "      <td>Never-married</td>\n",
       "      <td>Adm-clerical</td>\n",
       "      <td>Own-child</td>\n",
       "      <td>0</td>\n",
       "      <td>0</td>\n",
       "      <td>40</td>\n",
       "      <td>0</td>\n",
       "    </tr>\n",
       "    <tr>\n",
       "      <th>6</th>\n",
       "      <td>70</td>\n",
       "      <td>Private</td>\n",
       "      <td>2</td>\n",
       "      <td>Married-civ-spouse</td>\n",
       "      <td>Machine-op-inspct</td>\n",
       "      <td>H&amp;W</td>\n",
       "      <td>2653</td>\n",
       "      <td>0</td>\n",
       "      <td>40</td>\n",
       "      <td>0</td>\n",
       "    </tr>\n",
       "  </tbody>\n",
       "</table>\n",
       "</div>"
      ],
      "text/plain": [
       "   age  workclass  educational-num      marital-status         occupation  \\\n",
       "0   67    Private               10            Divorced    Exec-managerial   \n",
       "2   31    Private                7  Married-civ-spouse    Exec-managerial   \n",
       "3   58  State-gov                1  Married-civ-spouse   Transport-moving   \n",
       "5   59  State-gov                3       Never-married       Adm-clerical   \n",
       "6   70    Private                2  Married-civ-spouse  Machine-op-inspct   \n",
       "\n",
       "    relationship  capital-gain  capital-loss  hours-per-week  income  \n",
       "0  Not-in-family         99999             0              60       1  \n",
       "2            H&W             0             0              40       1  \n",
       "3            H&W             0             0              40       0  \n",
       "5      Own-child             0             0              40       0  \n",
       "6            H&W          2653             0              40       0  "
      ]
     },
     "execution_count": 102,
     "metadata": {},
     "output_type": "execute_result"
    }
   ],
   "source": [
    "train.head()"
   ]
  },
  {
   "cell_type": "code",
   "execution_count": 103,
   "id": "c1f30cf4",
   "metadata": {},
   "outputs": [
    {
     "name": "stdout",
     "output_type": "stream",
     "text": [
      "<class 'pandas.core.frame.DataFrame'>\n",
      "Int64Index: 35456 entries, 0 to 43956\n",
      "Data columns (total 10 columns):\n",
      " #   Column           Non-Null Count  Dtype \n",
      "---  ------           --------------  ----- \n",
      " 0   age              35456 non-null  int64 \n",
      " 1   workclass        35456 non-null  object\n",
      " 2   educational-num  35456 non-null  int64 \n",
      " 3   marital-status   35456 non-null  object\n",
      " 4   occupation       35456 non-null  object\n",
      " 5   relationship     35456 non-null  object\n",
      " 6   capital-gain     35456 non-null  int64 \n",
      " 7   capital-loss     35456 non-null  int64 \n",
      " 8   hours-per-week   35456 non-null  int64 \n",
      " 9   income           35456 non-null  int64 \n",
      "dtypes: int64(6), object(4)\n",
      "memory usage: 3.0+ MB\n"
     ]
    }
   ],
   "source": [
    "train.info()"
   ]
  },
  {
   "cell_type": "code",
   "execution_count": 104,
   "id": "33e78489",
   "metadata": {},
   "outputs": [
    {
     "data": {
      "text/html": [
       "<div>\n",
       "<style scoped>\n",
       "    .dataframe tbody tr th:only-of-type {\n",
       "        vertical-align: middle;\n",
       "    }\n",
       "\n",
       "    .dataframe tbody tr th {\n",
       "        vertical-align: top;\n",
       "    }\n",
       "\n",
       "    .dataframe thead th {\n",
       "        text-align: right;\n",
       "    }\n",
       "</style>\n",
       "<table border=\"1\" class=\"dataframe\">\n",
       "  <thead>\n",
       "    <tr style=\"text-align: right;\">\n",
       "      <th></th>\n",
       "      <th>age</th>\n",
       "      <th>educational-num</th>\n",
       "      <th>capital-gain</th>\n",
       "      <th>capital-loss</th>\n",
       "      <th>hours-per-week</th>\n",
       "      <th>income</th>\n",
       "      <th>workclass_Federal-gov</th>\n",
       "      <th>workclass_Local-gov</th>\n",
       "      <th>workclass_None</th>\n",
       "      <th>workclass_Private</th>\n",
       "      <th>...</th>\n",
       "      <th>occupation_Prof-specialty</th>\n",
       "      <th>occupation_Protective-serv</th>\n",
       "      <th>occupation_Sales</th>\n",
       "      <th>occupation_Tech-support</th>\n",
       "      <th>occupation_Transport-moving</th>\n",
       "      <th>relationship_H&amp;W</th>\n",
       "      <th>relationship_Not-in-family</th>\n",
       "      <th>relationship_Other-relative</th>\n",
       "      <th>relationship_Own-child</th>\n",
       "      <th>relationship_Unmarried</th>\n",
       "    </tr>\n",
       "  </thead>\n",
       "  <tbody>\n",
       "    <tr>\n",
       "      <th>0</th>\n",
       "      <td>67</td>\n",
       "      <td>10</td>\n",
       "      <td>99999</td>\n",
       "      <td>0</td>\n",
       "      <td>60</td>\n",
       "      <td>1</td>\n",
       "      <td>0</td>\n",
       "      <td>0</td>\n",
       "      <td>0</td>\n",
       "      <td>1</td>\n",
       "      <td>...</td>\n",
       "      <td>0</td>\n",
       "      <td>0</td>\n",
       "      <td>0</td>\n",
       "      <td>0</td>\n",
       "      <td>0</td>\n",
       "      <td>0</td>\n",
       "      <td>1</td>\n",
       "      <td>0</td>\n",
       "      <td>0</td>\n",
       "      <td>0</td>\n",
       "    </tr>\n",
       "    <tr>\n",
       "      <th>2</th>\n",
       "      <td>31</td>\n",
       "      <td>7</td>\n",
       "      <td>0</td>\n",
       "      <td>0</td>\n",
       "      <td>40</td>\n",
       "      <td>1</td>\n",
       "      <td>0</td>\n",
       "      <td>0</td>\n",
       "      <td>0</td>\n",
       "      <td>1</td>\n",
       "      <td>...</td>\n",
       "      <td>0</td>\n",
       "      <td>0</td>\n",
       "      <td>0</td>\n",
       "      <td>0</td>\n",
       "      <td>0</td>\n",
       "      <td>1</td>\n",
       "      <td>0</td>\n",
       "      <td>0</td>\n",
       "      <td>0</td>\n",
       "      <td>0</td>\n",
       "    </tr>\n",
       "    <tr>\n",
       "      <th>3</th>\n",
       "      <td>58</td>\n",
       "      <td>1</td>\n",
       "      <td>0</td>\n",
       "      <td>0</td>\n",
       "      <td>40</td>\n",
       "      <td>0</td>\n",
       "      <td>0</td>\n",
       "      <td>0</td>\n",
       "      <td>0</td>\n",
       "      <td>0</td>\n",
       "      <td>...</td>\n",
       "      <td>0</td>\n",
       "      <td>0</td>\n",
       "      <td>0</td>\n",
       "      <td>0</td>\n",
       "      <td>1</td>\n",
       "      <td>1</td>\n",
       "      <td>0</td>\n",
       "      <td>0</td>\n",
       "      <td>0</td>\n",
       "      <td>0</td>\n",
       "    </tr>\n",
       "    <tr>\n",
       "      <th>5</th>\n",
       "      <td>59</td>\n",
       "      <td>3</td>\n",
       "      <td>0</td>\n",
       "      <td>0</td>\n",
       "      <td>40</td>\n",
       "      <td>0</td>\n",
       "      <td>0</td>\n",
       "      <td>0</td>\n",
       "      <td>0</td>\n",
       "      <td>0</td>\n",
       "      <td>...</td>\n",
       "      <td>0</td>\n",
       "      <td>0</td>\n",
       "      <td>0</td>\n",
       "      <td>0</td>\n",
       "      <td>0</td>\n",
       "      <td>0</td>\n",
       "      <td>0</td>\n",
       "      <td>0</td>\n",
       "      <td>1</td>\n",
       "      <td>0</td>\n",
       "    </tr>\n",
       "    <tr>\n",
       "      <th>6</th>\n",
       "      <td>70</td>\n",
       "      <td>2</td>\n",
       "      <td>2653</td>\n",
       "      <td>0</td>\n",
       "      <td>40</td>\n",
       "      <td>0</td>\n",
       "      <td>0</td>\n",
       "      <td>0</td>\n",
       "      <td>0</td>\n",
       "      <td>1</td>\n",
       "      <td>...</td>\n",
       "      <td>0</td>\n",
       "      <td>0</td>\n",
       "      <td>0</td>\n",
       "      <td>0</td>\n",
       "      <td>0</td>\n",
       "      <td>1</td>\n",
       "      <td>0</td>\n",
       "      <td>0</td>\n",
       "      <td>0</td>\n",
       "      <td>0</td>\n",
       "    </tr>\n",
       "  </tbody>\n",
       "</table>\n",
       "<p>5 rows × 38 columns</p>\n",
       "</div>"
      ],
      "text/plain": [
       "   age  educational-num  capital-gain  capital-loss  hours-per-week  income  \\\n",
       "0   67               10         99999             0              60       1   \n",
       "2   31                7             0             0              40       1   \n",
       "3   58                1             0             0              40       0   \n",
       "5   59                3             0             0              40       0   \n",
       "6   70                2          2653             0              40       0   \n",
       "\n",
       "   workclass_Federal-gov  workclass_Local-gov  workclass_None  \\\n",
       "0                      0                    0               0   \n",
       "2                      0                    0               0   \n",
       "3                      0                    0               0   \n",
       "5                      0                    0               0   \n",
       "6                      0                    0               0   \n",
       "\n",
       "   workclass_Private  ...  occupation_Prof-specialty  \\\n",
       "0                  1  ...                          0   \n",
       "2                  1  ...                          0   \n",
       "3                  0  ...                          0   \n",
       "5                  0  ...                          0   \n",
       "6                  1  ...                          0   \n",
       "\n",
       "   occupation_Protective-serv  occupation_Sales  occupation_Tech-support  \\\n",
       "0                           0                 0                        0   \n",
       "2                           0                 0                        0   \n",
       "3                           0                 0                        0   \n",
       "5                           0                 0                        0   \n",
       "6                           0                 0                        0   \n",
       "\n",
       "   occupation_Transport-moving  relationship_H&W  relationship_Not-in-family  \\\n",
       "0                            0                 0                           1   \n",
       "2                            0                 1                           0   \n",
       "3                            1                 1                           0   \n",
       "5                            0                 0                           0   \n",
       "6                            0                 1                           0   \n",
       "\n",
       "   relationship_Other-relative  relationship_Own-child  relationship_Unmarried  \n",
       "0                            0                       0                       0  \n",
       "2                            0                       0                       0  \n",
       "3                            0                       0                       0  \n",
       "5                            0                       1                       0  \n",
       "6                            0                       0                       0  \n",
       "\n",
       "[5 rows x 38 columns]"
      ]
     },
     "execution_count": 104,
     "metadata": {},
     "output_type": "execute_result"
    }
   ],
   "source": [
    "# categorical_col = ['workclass', 'marital-status', 'occupation', 'relationship', 'race', 'gender','edu']\n",
    "# one-hot encoding\n",
    "df = pd.get_dummies(train)\n",
    "df.head()"
   ]
  },
  {
   "cell_type": "code",
   "execution_count": 105,
   "id": "de2e6954",
   "metadata": {},
   "outputs": [
    {
     "data": {
      "text/plain": [
       "(35456, 38)"
      ]
     },
     "execution_count": 105,
     "metadata": {},
     "output_type": "execute_result"
    }
   ],
   "source": [
    "df.shape"
   ]
  },
  {
   "cell_type": "markdown",
   "id": "65ea063c",
   "metadata": {},
   "source": [
    "# Test Train Spilt"
   ]
  },
  {
   "cell_type": "code",
   "execution_count": 125,
   "id": "b83c3f23",
   "metadata": {},
   "outputs": [],
   "source": [
    "from sklearn.model_selection import train_test_split\n",
    "X_df = df.drop(columns = 'educational-num',axis = 1)\n",
    "y_df = df['educational-num']\n",
    "# y = df[['educational-num']]"
   ]
  },
  {
   "cell_type": "code",
   "execution_count": 110,
   "id": "06ba4c60",
   "metadata": {},
   "outputs": [],
   "source": [
    "X_train, X_test, y_train, y_test = train_test_split(X, y, test_size = 0.01, random_state = 42, stratify = y)"
   ]
  },
  {
   "cell_type": "code",
   "execution_count": 111,
   "id": "8a21ad0c",
   "metadata": {},
   "outputs": [
    {
     "name": "stdout",
     "output_type": "stream",
     "text": [
      "(35101, 37)\n",
      "(355, 37)\n"
     ]
    }
   ],
   "source": [
    "print(X_train.shape)\n",
    "print(X_test.shape)"
   ]
  },
  {
   "cell_type": "markdown",
   "id": "1fd6262a",
   "metadata": {},
   "source": [
    "# Classification"
   ]
  },
  {
   "cell_type": "code",
   "execution_count": 112,
   "id": "cd8e581a",
   "metadata": {},
   "outputs": [
    {
     "data": {
      "text/plain": [
       "DecisionTreeClassifier()"
      ]
     },
     "execution_count": 112,
     "metadata": {},
     "output_type": "execute_result"
    }
   ],
   "source": [
    "from sklearn.tree import DecisionTreeClassifier\n",
    "from sklearn.metrics import accuracy_score\n",
    "\n",
    "classifier1 = DecisionTreeClassifier(criterion='gini')  \n",
    "classifier1.fit(X_train, y_train)"
   ]
  },
  {
   "cell_type": "code",
   "execution_count": 113,
   "id": "0b3d4e3a",
   "metadata": {
    "scrolled": true
   },
   "outputs": [
    {
     "name": "stdout",
     "output_type": "stream",
     "text": [
      "[ 3  8  7  7  7  4  8  8  3  1  7  3  7  3  4  6  4  2  4  8  4  2  3  2\n",
      "  2  3  3  4  7  3  4  4  3  3  7  8  7  7  3  7  3  2  7  3  7  6  3  3\n",
      "  3  3  2  7  2  8  2  7  7 10  3  7  1  7  5  4  4  2  3  2  4  5  4  8\n",
      "  1  3  3  3  2  7  7  7  4  4  4  8  3  3  3  4  3  2  3  4  4  9  5  2\n",
      "  4  2  7  2  4  3  2  6  4  4  3  8  4  3  3  3  3  5  7  7  7  3  4 10\n",
      "  4  3  3  4  3  3  7  4  3  4  3  3  1  7  3  3  2  7  3  3  7  3  3  3\n",
      "  7  7  3  3  3  4  7  4  2  4  3  2  3  4  4  7  2  3  3  4  4  4  3  3\n",
      "  4  4  7  4  4  3  3  3  9  3  7  3  7  3  2  3  3  4  4  4  2  2  3  4\n",
      "  8  3  3  4  9  3  2  3  4  7  6  3  4  3  4 10  7 10  3  3  3  2  4  4\n",
      "  3  7  3  7  7  8  4  2  4  7  3  4  2  3  3  3  3  4  2  3  3  3  2  3\n",
      "  1  3  3  4  3  4  2  6  9  9  4  3  3  4  7  2  3  7  7  3  3  1  7  3\n",
      "  2  7  2  4  3  1  4  1  3  3  3  4  4  4  4  8  3  4  9  3  3  7  3  7\n",
      "  3  3  9  4  3  2  7  2  3  2  4  7  3  3  4  4  3  4  3  3  2  3  3  3\n",
      "  3  4  3  4  3  3  2  2  3  4  3  3  4  4  2  2  4  6  4  5  3  5  3  7\n",
      "  4  4  3  2  3  3  2  7  3  6  3  3  7  3  3  8  6  3  4]\n"
     ]
    }
   ],
   "source": [
    "y_pred_1 = classifier1.predict(X_test)  \n",
    "print(y_pred_1)"
   ]
  },
  {
   "cell_type": "code",
   "execution_count": 114,
   "id": "1ef2caae",
   "metadata": {},
   "outputs": [
    {
     "name": "stdout",
     "output_type": "stream",
     "text": [
      "Accuracy for Gini model 31.83098591549296 %\n",
      "[[ 0  0  1  0  1  0  0  0  0  0  0]\n",
      " [ 0  1  2  1  0  0  0  1  1  0  0]\n",
      " [ 0  2 11  9  5  0  0  2  0  0  0]\n",
      " [ 0  3 12 54 32  2  3  7  0  1  1]\n",
      " [ 0  0 10 35 20  2  2 10  0  2  0]\n",
      " [ 0  0  1  6  2  1  0  4  2  0  0]\n",
      " [ 0  0  1  4  5  0  1  1  0  0  0]\n",
      " [ 0  1  5 20 11  1  2 18  2  2  1]\n",
      " [ 0  0  0  3  3  0  0  5  7  2  1]\n",
      " [ 0  0  0  1  0  0  0  3  1  0  1]\n",
      " [ 0  1  0  0  1  0  0  2  0  0  0]]\n"
     ]
    }
   ],
   "source": [
    "\n",
    "\n",
    "acc_1 = accuracy_score(y_test,y_pred_1)\n",
    "print(\"Accuracy for Gini model {} %\".format(acc_1*100))\n",
    "\n",
    "from sklearn.metrics import classification_report, confusion_matrix  \n",
    "print(confusion_matrix(y_test, y_pred_1))\n"
   ]
  },
  {
   "cell_type": "markdown",
   "id": "07d5c675",
   "metadata": {},
   "source": [
    "print(y_pred_1)"
   ]
  },
  {
   "cell_type": "code",
   "execution_count": 115,
   "id": "6621383b",
   "metadata": {},
   "outputs": [
    {
     "name": "stderr",
     "output_type": "stream",
     "text": [
      "C:\\Users\\yoond\\anaconda3\\lib\\site-packages\\sklearn\\neighbors\\_classification.py:179: DataConversionWarning: A column-vector y was passed when a 1d array was expected. Please change the shape of y to (n_samples,), for example using ravel().\n",
      "  return self._fit(X, y)\n"
     ]
    },
    {
     "name": "stdout",
     "output_type": "stream",
     "text": [
      "Accuracy for KNN model 32.95774647887324 %\n",
      "[[ 0  0  1  1  0  0  0  0  0  0  0]\n",
      " [ 0  1  1  4  0  0  0  0  0  0  0]\n",
      " [ 0  3  9 12  3  0  0  2  0  0  0]\n",
      " [ 1  1 15 71 21  1  0  5  0  0  0]\n",
      " [ 1  3  7 42 18  1  0  8  0  1  0]\n",
      " [ 0  0  1  6  3  0  1  4  1  0  0]\n",
      " [ 0  0  1  7  2  0  0  0  2  0  0]\n",
      " [ 0  2  5 25 11  0  2 14  4  0  0]\n",
      " [ 0  0  2  4  6  0  0  4  4  1  0]\n",
      " [ 0  0  0  3  2  0  0  1  0  0  0]\n",
      " [ 0  0  1  0  1  0  0  2  0  0  0]]\n"
     ]
    }
   ],
   "source": [
    "from sklearn.neighbors import KNeighborsClassifier\n",
    "\n",
    "\n",
    "classifier2 = KNeighborsClassifier(n_neighbors= 3)  \n",
    "classifier2.fit(X_train, y_train) \n",
    "\n",
    "y_pred_2 = classifier2.predict(X_test)  \n",
    "\n",
    "acc_2 = accuracy_score(y_test,y_pred_2)\n",
    "print(\"Accuracy for KNN model {} %\".format(acc_2*100))\n",
    "print(confusion_matrix(y_test, y_pred_2))"
   ]
  },
  {
   "cell_type": "code",
   "execution_count": 116,
   "id": "aa08591f",
   "metadata": {},
   "outputs": [
    {
     "name": "stderr",
     "output_type": "stream",
     "text": [
      "C:\\Users\\yoond\\anaconda3\\lib\\site-packages\\sklearn\\utils\\validation.py:63: DataConversionWarning: A column-vector y was passed when a 1d array was expected. Please change the shape of y to (n_samples, ), for example using ravel().\n",
      "  return f(*args, **kwargs)\n"
     ]
    },
    {
     "name": "stdout",
     "output_type": "stream",
     "text": [
      "Accuracy for LR model 32.67605633802817 %\n",
      "[[  0   0   0   2   0   0   0   0   0   0   0]\n",
      " [  0   0   0   6   0   0   0   0   0   0   0]\n",
      " [  0   0   0  29   0   0   0   0   0   0   0]\n",
      " [  0   0   0 113   0   0   0   2   0   0   0]\n",
      " [  0   0   0  80   0   0   0   1   0   0   0]\n",
      " [  0   0   0  15   0   0   0   1   0   0   0]\n",
      " [  0   0   0  11   0   0   0   1   0   0   0]\n",
      " [  0   0   0  59   0   0   0   3   0   1   0]\n",
      " [  0   0   0  21   0   0   0   0   0   0   0]\n",
      " [  0   0   0   6   0   0   0   0   0   0   0]\n",
      " [  0   0   0   4   0   0   0   0   0   0   0]]\n"
     ]
    },
    {
     "name": "stderr",
     "output_type": "stream",
     "text": [
      "C:\\Users\\yoond\\anaconda3\\lib\\site-packages\\sklearn\\linear_model\\_logistic.py:763: ConvergenceWarning: lbfgs failed to converge (status=1):\n",
      "STOP: TOTAL NO. of ITERATIONS REACHED LIMIT.\n",
      "\n",
      "Increase the number of iterations (max_iter) or scale the data as shown in:\n",
      "    https://scikit-learn.org/stable/modules/preprocessing.html\n",
      "Please also refer to the documentation for alternative solver options:\n",
      "    https://scikit-learn.org/stable/modules/linear_model.html#logistic-regression\n",
      "  n_iter_i = _check_optimize_result(\n"
     ]
    }
   ],
   "source": [
    "from sklearn.linear_model import LogisticRegression\n",
    "classifier3 = LogisticRegression(random_state=0)\n",
    "classifier3.fit(X_train, y_train) \n",
    "\n",
    "y_pred_3 = classifier3.predict(X_test)  \n",
    "\n",
    "acc_3 = accuracy_score(y_test,y_pred_3)\n",
    "print(\"Accuracy for LR model {} %\".format(acc_3*100))\n",
    "print(confusion_matrix(y_test, y_pred_3))"
   ]
  },
  {
   "cell_type": "code",
   "execution_count": 117,
   "id": "4a2b88d5",
   "metadata": {},
   "outputs": [
    {
     "name": "stderr",
     "output_type": "stream",
     "text": [
      "C:\\Users\\yoond\\anaconda3\\lib\\site-packages\\sklearn\\utils\\validation.py:63: DataConversionWarning: A column-vector y was passed when a 1d array was expected. Please change the shape of y to (n_samples, ), for example using ravel().\n",
      "  return f(*args, **kwargs)\n"
     ]
    },
    {
     "name": "stdout",
     "output_type": "stream",
     "text": [
      "Accuracy for Gradient Boost model 43.66197183098591 %\n",
      "[[ 0  0  1  1  0  0  0  0  0  0  0]\n",
      " [ 0  0  0  5  0  0  0  1  0  0  0]\n",
      " [ 0  0  4 23  1  0  0  1  0  0  0]\n",
      " [ 0  0  1 96  7  0  0 11  0  0  0]\n",
      " [ 0  0  0 54 12  0  0 15  0  0  0]\n",
      " [ 0  0  0 10  1  0  0  5  0  0  0]\n",
      " [ 0  0  0  8  2  0  0  1  1  0  0]\n",
      " [ 0  0  0 21  4  0  0 34  4  0  0]\n",
      " [ 0  0  0  1  0  0  0 14  6  0  0]\n",
      " [ 0  0  0  0  0  0  0  3  0  3  0]\n",
      " [ 0  0  0  1  0  0  0  1  1  1  0]]\n"
     ]
    }
   ],
   "source": [
    "from sklearn.ensemble import GradientBoostingClassifier  \n",
    "\n",
    "classifier4 = GradientBoostingClassifier()  \n",
    "classifier4.fit(X_train, y_train) \n",
    "\n",
    "y_pred_4 = classifier4.predict(X_test)  \n",
    "\n",
    "acc_4 = accuracy_score(y_test,y_pred_4)\n",
    "print(\"Accuracy for Gradient Boost model {} %\".format(acc_4*100))\n",
    "print(confusion_matrix(y_test, y_pred_4))"
   ]
  },
  {
   "cell_type": "code",
   "execution_count": 118,
   "id": "24df22ed",
   "metadata": {},
   "outputs": [
    {
     "name": "stderr",
     "output_type": "stream",
     "text": [
      "<ipython-input-118-d6cf15cc64b3>:4: DataConversionWarning: A column-vector y was passed when a 1d array was expected. Please change the shape of y to (n_samples,), for example using ravel().\n",
      "  classifier5.fit(X_train, y_train)\n"
     ]
    },
    {
     "name": "stdout",
     "output_type": "stream",
     "text": [
      "Accuracy for Random Forest model 39.436619718309856 %\n",
      "[[ 0  0  1  1  0  0  0  0  0  0  0]\n",
      " [ 0  0  2  2  0  0  0  2  0  0  0]\n",
      " [ 0  2  7 16  2  0  0  2  0  0  0]\n",
      " [ 0  1  8 72 24  2  2  6  0  0  0]\n",
      " [ 0  0  4 38 23  0  1 11  2  2  0]\n",
      " [ 0  0  1  5  4  0  1  3  1  1  0]\n",
      " [ 0  0  1  5  5  0  0  1  0  0  0]\n",
      " [ 0  1  2 20  9  0  1 25  4  1  0]\n",
      " [ 0  0  0  1  3  0  0  4 12  0  1]\n",
      " [ 0  0  0  0  0  0  1  1  3  1  0]\n",
      " [ 0  1  0  0  0  0  0  3  0  0  0]]\n"
     ]
    }
   ],
   "source": [
    "from sklearn.ensemble import RandomForestClassifier  \n",
    "\n",
    "classifier5 = RandomForestClassifier()  \n",
    "classifier5.fit(X_train, y_train) \n",
    "\n",
    "y_pred_5 = classifier5.predict(X_test)  \n",
    "\n",
    "acc_5 = accuracy_score(y_test,y_pred_5)\n",
    "print(\"Accuracy for Random Forest model {} %\".format(acc_5*100))\n",
    "print(confusion_matrix(y_test, y_pred_5))"
   ]
  },
  {
   "cell_type": "code",
   "execution_count": 120,
   "id": "8a2d4d26",
   "metadata": {},
   "outputs": [],
   "source": [
    "from sklearn.model_selection import train_test_split\n",
    "from sklearn.ensemble import GradientBoostingClassifier, RandomForestClassifier, AdaBoostClassifier, BaggingClassifier, VotingClassifier\n",
    "from sklearn.metrics import accuracy_score\n",
    "from sklearn.model_selection import KFold, cross_val_score, GridSearchCV"
   ]
  },
  {
   "cell_type": "code",
   "execution_count": 122,
   "id": "fe6b30f8",
   "metadata": {},
   "outputs": [
    {
     "name": "stderr",
     "output_type": "stream",
     "text": [
      "C:\\Users\\yoond\\anaconda3\\lib\\site-packages\\sklearn\\utils\\validation.py:63: DataConversionWarning: A column-vector y was passed when a 1d array was expected. Please change the shape of y to (n_samples, ), for example using ravel().\n",
      "  return f(*args, **kwargs)\n"
     ]
    },
    {
     "name": "stdout",
     "output_type": "stream",
     "text": [
      "GradientBoostingClassifier 정확도: 0.4366\n"
     ]
    },
    {
     "name": "stderr",
     "output_type": "stream",
     "text": [
      "<ipython-input-122-f36bbe22bdcb>:12: DataConversionWarning: A column-vector y was passed when a 1d array was expected. Please change the shape of y to (n_samples,), for example using ravel().\n",
      "  rf_clf.fit(X_train, y_train)\n"
     ]
    },
    {
     "name": "stdout",
     "output_type": "stream",
     "text": [
      "RandomForestClassifier 정확도: 0.3859\n"
     ]
    },
    {
     "name": "stderr",
     "output_type": "stream",
     "text": [
      "C:\\Users\\yoond\\anaconda3\\lib\\site-packages\\sklearn\\utils\\validation.py:63: DataConversionWarning: A column-vector y was passed when a 1d array was expected. Please change the shape of y to (n_samples, ), for example using ravel().\n",
      "  return f(*args, **kwargs)\n"
     ]
    },
    {
     "name": "stdout",
     "output_type": "stream",
     "text": [
      "AdaBoostClassifier 정확도: 0.3887\n"
     ]
    }
   ],
   "source": [
    "# gradient boost, random forest, AdaBoostClassifier를 위한 사이킷런 classifier 클래스 생성\n",
    "gbc_clf = GradientBoostingClassifier(random_state=11)\n",
    "rf_clf = RandomForestClassifier(random_state=11)\n",
    "ada_clf = AdaBoostClassifier(random_state=11)\n",
    "\n",
    "# GradientBoostingClassifier 학습,예측,정확도 출력\n",
    "gbc_clf.fit(X_train, y_train)\n",
    "gbc_pred = gbc_clf.predict(X_test)\n",
    "print('GradientBoostingClassifier 정확도: {0:.4f}'.format(accuracy_score(y_test, gbc_pred)))\n",
    "\n",
    "# RandomForestClassifier 학습,예측,정확도 출력\n",
    "rf_clf.fit(X_train, y_train)\n",
    "rf_pred = rf_clf.predict(X_test)\n",
    "print('RandomForestClassifier 정확도: {0:.4f}'.format(accuracy_score(y_test, rf_pred)))\n",
    "\n",
    "# AdaBoostClassifier 학습,예측,정확도 출력\n",
    "ada_clf.fit(X_train, y_train)\n",
    "ada_pred = ada_clf.predict(X_test)\n",
    "print('AdaBoostClassifier 정확도: {0:.4f}'.format(accuracy_score(y_test, ada_pred)))"
   ]
  },
  {
   "cell_type": "code",
   "execution_count": 126,
   "id": "9c6e4052",
   "metadata": {},
   "outputs": [
    {
     "name": "stdout",
     "output_type": "stream",
     "text": [
      "교차 검증 0 정확도:  0.4405\n",
      "교차 검증 1 정확도:  0.4513\n",
      "교차 검증 2 정확도:  0.4400\n",
      "교차 검증 3 정확도:  0.4478\n",
      "교차 검증 4 정확도:  0.4441\n",
      "평균 정확도: 0.4447\n"
     ]
    }
   ],
   "source": [
    "# kfold 사용\n",
    "def exec_kfold(clf, folds=5):\n",
    "    # 폴드 세트가 5개인 KFold 객체 생성, 폴드 수만큼 예측결과 저장을 위한 리스트 생성\n",
    "    kfold = KFold(n_splits=folds)\n",
    "    scores = []\n",
    "    \n",
    "    # kFold 교차 검증 수행\n",
    "    for iter_count, (train_index, test_index) in enumerate(kfold.split(X_df)):\n",
    "        # X_df, y_df 데이터에서 교차 검증별로 학습과 검증 데이터를 가리키는 index 생성\n",
    "        X_train, X_test = X_df.values[train_index], X_df.values[test_index]\n",
    "        y_train, y_test = y_df.values[train_index], y_df.values[test_index]\n",
    "        # Classifier 학습, 예측, 정확도 계산\n",
    "        clf.fit(X_train, y_train)\n",
    "        predictions = clf.predict(X_test)\n",
    "        accuracy = accuracy_score(y_test, predictions)\n",
    "        scores.append(accuracy)\n",
    "        print(\"교차 검증 {0} 정확도:  {1:.4f}\".format(iter_count, accuracy))\n",
    "        \n",
    "    # 5개 fold에서의 평균 정확도 계산.\n",
    "    mean_score = np.mean(scores)\n",
    "    print(\"평균 정확도: {0:.4f}\".format(mean_score))\n",
    "        \n",
    "# exec_kfold 호출\n",
    "exec_kfold(gbc_clf, folds=5)"
   ]
  },
  {
   "cell_type": "code",
   "execution_count": 127,
   "id": "b7663513",
   "metadata": {},
   "outputs": [
    {
     "name": "stdout",
     "output_type": "stream",
     "text": [
      "교차 검증 0 정확도: 0.4392\n",
      "교차 검증 1 정확도: 0.4493\n",
      "교차 검증 2 정확도: 0.4454\n",
      "교차 검증 3 정확도: 0.4479\n",
      "교차 검증 4 정확도: 0.4421\n",
      "평균 정확도: 0.4448\n"
     ]
    }
   ],
   "source": [
    "# cross_val_score 사용\n",
    "scores = cross_val_score(gbc_clf, X_df, y_df, cv=5)\n",
    "for iter_count, accuracy in enumerate(scores):\n",
    "    print(\"교차 검증 {0} 정확도: {1:.4f}\".format(iter_count, accuracy))\n",
    "    \n",
    "print(\"평균 정확도: {0:.4f}\".format(np.mean(scores)))"
   ]
  },
  {
   "cell_type": "markdown",
   "id": "c3d13122",
   "metadata": {},
   "source": [
    "# GradientBoostingClassifier 파라미터 서치\n",
    "params = {\n",
    "    'n_estimators' : [100, 200, 500],\n",
    "    'max_depth' : [6, 8, 10, 12],\n",
    "    'min_samples_leaf' : [3, 5, 7, 10],\n",
    "    'min_samples_split' : [2, 3, 5, 10],\n",
    "    'learning_rate' : [0.05, 0.1, 0.2]\n",
    "}\n",
    "grid_cv = GridSearchCV(gbc_clf, param_grid=params, scoring=\"accuracy\", n_jobs=-1, verbose=1)\n",
    "grid_cv.fit(X_train, y_train)\n",
    "print('최적 하이퍼 파라미터:\\n', grid_cv.best_params_)\n",
    "print('최고 예측 정확도: {0:.4f}'.format(grid_cv.best_score_))"
   ]
  },
  {
   "cell_type": "markdown",
   "id": "a5084ce2",
   "metadata": {},
   "source": [
    "# GridSearchCV를 이용해 최적으로 학습된 estimator로 예측 수행.\n",
    "gbc_pred = grid_cv.best_estimator_.predict(X_test)\n",
    "gbc_accuracy = accuracy_score(y_test, gbc_pred)\n",
    "print(\"GradientBoostingClassifier GridSearch 정확도: {0:.4f}\".format(gbc_accuracy))"
   ]
  },
  {
   "cell_type": "markdown",
   "id": "fefa029d",
   "metadata": {},
   "source": [
    "# GradientBoostingClassifier GridSearchCV 모델을 base_esimator로 한 앙상블 모델 비교\n",
    "\n",
    "gbc_bagging_clf = BaggingClassifier(base_estimator=grid_cv.best_estimator_, n_estimators=10, random_state=0)\n",
    "gbc_bagging_clf.fit(X_train, y_train)\n",
    "gbc_bagging_pred = gbc_bagging_clf.predict(X_test)\n",
    "gbc_bagging_accuracy = accuracy_score(y_test, gbc_bagging_pred)\n",
    "print(\"GradientBoostingClassifier Bagging 정확도: {0:.4f}\".format(gbc_bagging_accuracy))\n",
    "\n",
    "gbc_ada_clf = AdaBoostClassifier(base_estimator=grid_cv.best_estimator_, n_estimators=10, random_state=0)\n",
    "gbc_ada_clf.fit(X_train, y_train)\n",
    "gbc_ada_pred = gbc_ada_clf.predict(X_test)\n",
    "gbc_ada_accuracy = accuracy_score(y_test, gbc_ada_pred)\n",
    "print(\"GradientBoostingClassifier Adaboost 정확도: {0:.4f}\".format(gbc_ada_accuracy))"
   ]
  },
  {
   "cell_type": "markdown",
   "id": "bfa6d4f0",
   "metadata": {},
   "source": [
    "# GradientBoostingClassifier와 AdaBoostClassifier 보팅(하드)\n",
    "vo_hard_clf = VotingClassifier( estimators=[('GBC', grid_cv.best_estimator_), ('ADA', ada_clf)])\n",
    "\n",
    "# VotingClassifier 학습, 예측, 정확도 계산\n",
    "vo_hard_clf.fit(X_train, y_train)\n",
    "hard_pred = vo_hard_clf.predict(X_test)\n",
    "print('VotingClassifier Hard 정확도: {0:.4f}'.format(accuracy_score(y_test, hard_pred)))"
   ]
  },
  {
   "cell_type": "markdown",
   "id": "d26bb72d",
   "metadata": {},
   "source": [
    "# GradientBoostingClassifier와 AdaBoostClassifier 보팅(소프트)\n",
    "vo_soft_clf = VotingClassifier( estimators=[('GBC', grid_cv.best_estimator_), ('ADA', ada_clf)], voting='soft')\n",
    "\n",
    "# VotingClassifier 학습, 예측, 정확도 계산\n",
    "vo_soft_clf.fit(X_train, y_train)\n",
    "soft_pred = vo_soft_clf.predict(X_test)\n",
    "print('VotingClassifier Soft 정확도: {0:.4f}'.format(accuracy_score(y_test, soft_pred)))"
   ]
  },
  {
   "cell_type": "markdown",
   "id": "2d9a3a7e",
   "metadata": {},
   "source": [
    "# "
   ]
  }
 ],
 "metadata": {
  "kernelspec": {
   "display_name": "Python 3",
   "language": "python",
   "name": "python3"
  },
  "language_info": {
   "codemirror_mode": {
    "name": "ipython",
    "version": 3
   },
   "file_extension": ".py",
   "mimetype": "text/x-python",
   "name": "python",
   "nbconvert_exporter": "python",
   "pygments_lexer": "ipython3",
   "version": "3.8.8"
  }
 },
 "nbformat": 4,
 "nbformat_minor": 5
}
