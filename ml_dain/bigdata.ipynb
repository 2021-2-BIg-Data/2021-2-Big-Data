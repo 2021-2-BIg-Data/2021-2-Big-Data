{
 "cells": [
  {
   "cell_type": "markdown",
   "id": "4d6a77d7",
   "metadata": {},
   "source": [
    "# Import Libraries"
   ]
  },
  {
   "cell_type": "code",
   "execution_count": 75,
   "id": "52c13f33",
   "metadata": {},
   "outputs": [],
   "source": [
    "import numpy as np\n",
    "import pandas as pd\n",
    "import seaborn as sns\n",
    "import matplotlib.pyplot as plt\n",
    "\n",
    "from sklearn.model_selection import train_test_split\n",
    "from sklearn.model_selection import KFold, cross_val_score, cross_val_predict\n",
    "from sklearn import metrics\n",
    "\n",
    "from sklearn import svm\n",
    "from sklearn.linear_model import LogisticRegression\n",
    "from sklearn.ensemble import RandomForestClassifier\n",
    "from sklearn.neighbors import KNeighborsClassifier\n",
    "from sklearn.tree import DecisionTreeClassifier"
   ]
  },
  {
   "cell_type": "markdown",
   "id": "d4be952a",
   "metadata": {},
   "source": [
    "# Check Data"
   ]
  },
  {
   "cell_type": "code",
   "execution_count": 104,
   "id": "f2afcc3e",
   "metadata": {
    "scrolled": true
   },
   "outputs": [
    {
     "data": {
      "text/html": [
       "<div>\n",
       "<style scoped>\n",
       "    .dataframe tbody tr th:only-of-type {\n",
       "        vertical-align: middle;\n",
       "    }\n",
       "\n",
       "    .dataframe tbody tr th {\n",
       "        vertical-align: top;\n",
       "    }\n",
       "\n",
       "    .dataframe thead th {\n",
       "        text-align: right;\n",
       "    }\n",
       "</style>\n",
       "<table border=\"1\" class=\"dataframe\">\n",
       "  <thead>\n",
       "    <tr style=\"text-align: right;\">\n",
       "      <th></th>\n",
       "      <th>age</th>\n",
       "      <th>workclass</th>\n",
       "      <th>educational-num</th>\n",
       "      <th>marital-status</th>\n",
       "      <th>occupation</th>\n",
       "      <th>relationship</th>\n",
       "      <th>race</th>\n",
       "      <th>gender</th>\n",
       "      <th>hours-per-week</th>\n",
       "      <th>native-country</th>\n",
       "      <th>income</th>\n",
       "    </tr>\n",
       "  </thead>\n",
       "  <tbody>\n",
       "    <tr>\n",
       "      <th>0</th>\n",
       "      <td>67</td>\n",
       "      <td>Private</td>\n",
       "      <td>16</td>\n",
       "      <td>Divorced</td>\n",
       "      <td>Exec-managerial</td>\n",
       "      <td>Not-in-family</td>\n",
       "      <td>White</td>\n",
       "      <td>Male</td>\n",
       "      <td>60</td>\n",
       "      <td>United-States</td>\n",
       "      <td>1</td>\n",
       "    </tr>\n",
       "    <tr>\n",
       "      <th>1</th>\n",
       "      <td>17</td>\n",
       "      <td>Private</td>\n",
       "      <td>8</td>\n",
       "      <td>Never-married</td>\n",
       "      <td>Other-service</td>\n",
       "      <td>Own-child</td>\n",
       "      <td>White</td>\n",
       "      <td>Male</td>\n",
       "      <td>15</td>\n",
       "      <td>United-States</td>\n",
       "      <td>0</td>\n",
       "    </tr>\n",
       "    <tr>\n",
       "      <th>2</th>\n",
       "      <td>31</td>\n",
       "      <td>Private</td>\n",
       "      <td>13</td>\n",
       "      <td>Married-civ-spouse</td>\n",
       "      <td>Exec-managerial</td>\n",
       "      <td>Husband</td>\n",
       "      <td>White</td>\n",
       "      <td>Male</td>\n",
       "      <td>40</td>\n",
       "      <td>United-States</td>\n",
       "      <td>1</td>\n",
       "    </tr>\n",
       "    <tr>\n",
       "      <th>3</th>\n",
       "      <td>58</td>\n",
       "      <td>State-gov</td>\n",
       "      <td>4</td>\n",
       "      <td>Married-civ-spouse</td>\n",
       "      <td>Transport-moving</td>\n",
       "      <td>Husband</td>\n",
       "      <td>White</td>\n",
       "      <td>Male</td>\n",
       "      <td>40</td>\n",
       "      <td>United-States</td>\n",
       "      <td>0</td>\n",
       "    </tr>\n",
       "    <tr>\n",
       "      <th>4</th>\n",
       "      <td>25</td>\n",
       "      <td>State-gov</td>\n",
       "      <td>10</td>\n",
       "      <td>Never-married</td>\n",
       "      <td>Other-service</td>\n",
       "      <td>Not-in-family</td>\n",
       "      <td>Black</td>\n",
       "      <td>Male</td>\n",
       "      <td>40</td>\n",
       "      <td>United-States</td>\n",
       "      <td>0</td>\n",
       "    </tr>\n",
       "  </tbody>\n",
       "</table>\n",
       "</div>"
      ],
      "text/plain": [
       "   age  workclass  educational-num      marital-status        occupation  \\\n",
       "0   67    Private               16            Divorced   Exec-managerial   \n",
       "1   17    Private                8       Never-married     Other-service   \n",
       "2   31    Private               13  Married-civ-spouse   Exec-managerial   \n",
       "3   58  State-gov                4  Married-civ-spouse  Transport-moving   \n",
       "4   25  State-gov               10       Never-married     Other-service   \n",
       "\n",
       "    relationship   race gender  hours-per-week native-country  income  \n",
       "0  Not-in-family  White   Male              60  United-States       1  \n",
       "1      Own-child  White   Male              15  United-States       0  \n",
       "2        Husband  White   Male              40  United-States       1  \n",
       "3        Husband  White   Male              40  United-States       0  \n",
       "4  Not-in-family  Black   Male              40  United-States       0  "
      ]
     },
     "execution_count": 104,
     "metadata": {},
     "output_type": "execute_result"
    }
   ],
   "source": [
    "train = pd.read_csv('train.csv')\n",
    "\n",
    "# 전처리\n",
    "train.drop(columns = ['fnlwgt','capital-gain','capital-loss','education'],inplace = True)\n",
    "train['workclass'] = train['workclass'].fillna('None')\n",
    "train['occupation'] = train['occupation'].fillna('None')\n",
    "\n",
    "train['native-country'] = train['native-country'].fillna('Others')\n",
    "train = train.rename(columns={'income_>50K':'income'})\n",
    "\n",
    "train.head()"
   ]
  },
  {
   "cell_type": "code",
   "execution_count": 105,
   "id": "1bb182cf",
   "metadata": {},
   "outputs": [],
   "source": [
    "# for those of who whose native country is United-States\n",
    "train = train[train['native-country']=='United-States' ]\n",
    "train = train[train['educational-num'] != 1]\n",
    "train= train.drop('native-country', axis = 1)"
   ]
  },
  {
   "cell_type": "code",
   "execution_count": 106,
   "id": "5f3b1aaf",
   "metadata": {},
   "outputs": [],
   "source": [
    "def edufunc(x):\n",
    "    if x in [2,3]:\n",
    "        return 0\n",
    "        # return 'ES'\n",
    "    elif x in [4,5]:\n",
    "        return 1\n",
    "        # return 'MS'\n",
    "    elif x in [6,7,8]:\n",
    "        return 2\n",
    "        # return 'HS'\n",
    "    elif x == 9:\n",
    "        return 3\n",
    "        # return 'HS-grad'\n",
    "    elif x == 10:\n",
    "        return 4\n",
    "        # return 'Some-college'\n",
    "    elif x == 11:\n",
    "        return 5\n",
    "        # return 'Assoc-voc'\n",
    "    elif x == 12:\n",
    "        return 6\n",
    "        # return 'Assoc-acdm'\n",
    "    elif x == 13:\n",
    "        return 7\n",
    "        # return 'Bachelors'\n",
    "    elif x == 14:\n",
    "        return 8\n",
    "        # return 'Masters'\n",
    "    elif x == 15:\n",
    "        return 9\n",
    "        # return 'Prof-school'\n",
    "    elif x == 16:\n",
    "        return 10\n",
    "        # return 'Doctorate'\n",
    "    "
   ]
  },
  {
   "cell_type": "code",
   "execution_count": 107,
   "id": "1026e65f",
   "metadata": {},
   "outputs": [],
   "source": [
    "train['educational-num'] = train['educational-num'].map(edufunc)"
   ]
  },
  {
   "cell_type": "code",
   "execution_count": 108,
   "id": "cce4b689",
   "metadata": {
    "scrolled": true
   },
   "outputs": [
    {
     "data": {
      "text/html": [
       "<div>\n",
       "<style scoped>\n",
       "    .dataframe tbody tr th:only-of-type {\n",
       "        vertical-align: middle;\n",
       "    }\n",
       "\n",
       "    .dataframe tbody tr th {\n",
       "        vertical-align: top;\n",
       "    }\n",
       "\n",
       "    .dataframe thead th {\n",
       "        text-align: right;\n",
       "    }\n",
       "</style>\n",
       "<table border=\"1\" class=\"dataframe\">\n",
       "  <thead>\n",
       "    <tr style=\"text-align: right;\">\n",
       "      <th></th>\n",
       "      <th>age</th>\n",
       "      <th>workclass</th>\n",
       "      <th>educational-num</th>\n",
       "      <th>marital-status</th>\n",
       "      <th>occupation</th>\n",
       "      <th>relationship</th>\n",
       "      <th>race</th>\n",
       "      <th>gender</th>\n",
       "      <th>hours-per-week</th>\n",
       "      <th>income</th>\n",
       "    </tr>\n",
       "  </thead>\n",
       "  <tbody>\n",
       "    <tr>\n",
       "      <th>0</th>\n",
       "      <td>67</td>\n",
       "      <td>Private</td>\n",
       "      <td>10</td>\n",
       "      <td>Divorced</td>\n",
       "      <td>Exec-managerial</td>\n",
       "      <td>Not-in-family</td>\n",
       "      <td>White</td>\n",
       "      <td>Male</td>\n",
       "      <td>60</td>\n",
       "      <td>1</td>\n",
       "    </tr>\n",
       "    <tr>\n",
       "      <th>1</th>\n",
       "      <td>17</td>\n",
       "      <td>Private</td>\n",
       "      <td>2</td>\n",
       "      <td>Never-married</td>\n",
       "      <td>Other-service</td>\n",
       "      <td>Own-child</td>\n",
       "      <td>White</td>\n",
       "      <td>Male</td>\n",
       "      <td>15</td>\n",
       "      <td>0</td>\n",
       "    </tr>\n",
       "    <tr>\n",
       "      <th>2</th>\n",
       "      <td>31</td>\n",
       "      <td>Private</td>\n",
       "      <td>7</td>\n",
       "      <td>Married-civ-spouse</td>\n",
       "      <td>Exec-managerial</td>\n",
       "      <td>Husband</td>\n",
       "      <td>White</td>\n",
       "      <td>Male</td>\n",
       "      <td>40</td>\n",
       "      <td>1</td>\n",
       "    </tr>\n",
       "    <tr>\n",
       "      <th>3</th>\n",
       "      <td>58</td>\n",
       "      <td>State-gov</td>\n",
       "      <td>1</td>\n",
       "      <td>Married-civ-spouse</td>\n",
       "      <td>Transport-moving</td>\n",
       "      <td>Husband</td>\n",
       "      <td>White</td>\n",
       "      <td>Male</td>\n",
       "      <td>40</td>\n",
       "      <td>0</td>\n",
       "    </tr>\n",
       "    <tr>\n",
       "      <th>4</th>\n",
       "      <td>25</td>\n",
       "      <td>State-gov</td>\n",
       "      <td>4</td>\n",
       "      <td>Never-married</td>\n",
       "      <td>Other-service</td>\n",
       "      <td>Not-in-family</td>\n",
       "      <td>Black</td>\n",
       "      <td>Male</td>\n",
       "      <td>40</td>\n",
       "      <td>0</td>\n",
       "    </tr>\n",
       "  </tbody>\n",
       "</table>\n",
       "</div>"
      ],
      "text/plain": [
       "   age  workclass  educational-num      marital-status        occupation  \\\n",
       "0   67    Private               10            Divorced   Exec-managerial   \n",
       "1   17    Private                2       Never-married     Other-service   \n",
       "2   31    Private                7  Married-civ-spouse   Exec-managerial   \n",
       "3   58  State-gov                1  Married-civ-spouse  Transport-moving   \n",
       "4   25  State-gov                4       Never-married     Other-service   \n",
       "\n",
       "    relationship   race gender  hours-per-week  income  \n",
       "0  Not-in-family  White   Male              60       1  \n",
       "1      Own-child  White   Male              15       0  \n",
       "2        Husband  White   Male              40       1  \n",
       "3        Husband  White   Male              40       0  \n",
       "4  Not-in-family  Black   Male              40       0  "
      ]
     },
     "execution_count": 108,
     "metadata": {},
     "output_type": "execute_result"
    }
   ],
   "source": [
    "train.head()"
   ]
  },
  {
   "cell_type": "code",
   "execution_count": 109,
   "id": "c1f30cf4",
   "metadata": {},
   "outputs": [
    {
     "name": "stdout",
     "output_type": "stream",
     "text": [
      "<class 'pandas.core.frame.DataFrame'>\n",
      "Int64Index: 39407 entries, 0 to 43956\n",
      "Data columns (total 10 columns):\n",
      " #   Column           Non-Null Count  Dtype \n",
      "---  ------           --------------  ----- \n",
      " 0   age              39407 non-null  int64 \n",
      " 1   workclass        39407 non-null  object\n",
      " 2   educational-num  39407 non-null  int64 \n",
      " 3   marital-status   39407 non-null  object\n",
      " 4   occupation       39407 non-null  object\n",
      " 5   relationship     39407 non-null  object\n",
      " 6   race             39407 non-null  object\n",
      " 7   gender           39407 non-null  object\n",
      " 8   hours-per-week   39407 non-null  int64 \n",
      " 9   income           39407 non-null  int64 \n",
      "dtypes: int64(4), object(6)\n",
      "memory usage: 3.3+ MB\n"
     ]
    }
   ],
   "source": [
    "train.info()"
   ]
  },
  {
   "cell_type": "code",
   "execution_count": 110,
   "id": "33e78489",
   "metadata": {},
   "outputs": [
    {
     "data": {
      "text/html": [
       "<div>\n",
       "<style scoped>\n",
       "    .dataframe tbody tr th:only-of-type {\n",
       "        vertical-align: middle;\n",
       "    }\n",
       "\n",
       "    .dataframe tbody tr th {\n",
       "        vertical-align: top;\n",
       "    }\n",
       "\n",
       "    .dataframe thead th {\n",
       "        text-align: right;\n",
       "    }\n",
       "</style>\n",
       "<table border=\"1\" class=\"dataframe\">\n",
       "  <thead>\n",
       "    <tr style=\"text-align: right;\">\n",
       "      <th></th>\n",
       "      <th>age</th>\n",
       "      <th>educational-num</th>\n",
       "      <th>hours-per-week</th>\n",
       "      <th>income</th>\n",
       "      <th>workclass_Federal-gov</th>\n",
       "      <th>workclass_Local-gov</th>\n",
       "      <th>workclass_Never-worked</th>\n",
       "      <th>workclass_None</th>\n",
       "      <th>workclass_Private</th>\n",
       "      <th>workclass_Self-emp-inc</th>\n",
       "      <th>...</th>\n",
       "      <th>relationship_Own-child</th>\n",
       "      <th>relationship_Unmarried</th>\n",
       "      <th>relationship_Wife</th>\n",
       "      <th>race_Amer-Indian-Eskimo</th>\n",
       "      <th>race_Asian-Pac-Islander</th>\n",
       "      <th>race_Black</th>\n",
       "      <th>race_Other</th>\n",
       "      <th>race_White</th>\n",
       "      <th>gender_Female</th>\n",
       "      <th>gender_Male</th>\n",
       "    </tr>\n",
       "  </thead>\n",
       "  <tbody>\n",
       "    <tr>\n",
       "      <th>0</th>\n",
       "      <td>67</td>\n",
       "      <td>10</td>\n",
       "      <td>60</td>\n",
       "      <td>1</td>\n",
       "      <td>0</td>\n",
       "      <td>0</td>\n",
       "      <td>0</td>\n",
       "      <td>0</td>\n",
       "      <td>1</td>\n",
       "      <td>0</td>\n",
       "      <td>...</td>\n",
       "      <td>0</td>\n",
       "      <td>0</td>\n",
       "      <td>0</td>\n",
       "      <td>0</td>\n",
       "      <td>0</td>\n",
       "      <td>0</td>\n",
       "      <td>0</td>\n",
       "      <td>1</td>\n",
       "      <td>0</td>\n",
       "      <td>1</td>\n",
       "    </tr>\n",
       "    <tr>\n",
       "      <th>1</th>\n",
       "      <td>17</td>\n",
       "      <td>2</td>\n",
       "      <td>15</td>\n",
       "      <td>0</td>\n",
       "      <td>0</td>\n",
       "      <td>0</td>\n",
       "      <td>0</td>\n",
       "      <td>0</td>\n",
       "      <td>1</td>\n",
       "      <td>0</td>\n",
       "      <td>...</td>\n",
       "      <td>1</td>\n",
       "      <td>0</td>\n",
       "      <td>0</td>\n",
       "      <td>0</td>\n",
       "      <td>0</td>\n",
       "      <td>0</td>\n",
       "      <td>0</td>\n",
       "      <td>1</td>\n",
       "      <td>0</td>\n",
       "      <td>1</td>\n",
       "    </tr>\n",
       "    <tr>\n",
       "      <th>2</th>\n",
       "      <td>31</td>\n",
       "      <td>7</td>\n",
       "      <td>40</td>\n",
       "      <td>1</td>\n",
       "      <td>0</td>\n",
       "      <td>0</td>\n",
       "      <td>0</td>\n",
       "      <td>0</td>\n",
       "      <td>1</td>\n",
       "      <td>0</td>\n",
       "      <td>...</td>\n",
       "      <td>0</td>\n",
       "      <td>0</td>\n",
       "      <td>0</td>\n",
       "      <td>0</td>\n",
       "      <td>0</td>\n",
       "      <td>0</td>\n",
       "      <td>0</td>\n",
       "      <td>1</td>\n",
       "      <td>0</td>\n",
       "      <td>1</td>\n",
       "    </tr>\n",
       "    <tr>\n",
       "      <th>3</th>\n",
       "      <td>58</td>\n",
       "      <td>1</td>\n",
       "      <td>40</td>\n",
       "      <td>0</td>\n",
       "      <td>0</td>\n",
       "      <td>0</td>\n",
       "      <td>0</td>\n",
       "      <td>0</td>\n",
       "      <td>0</td>\n",
       "      <td>0</td>\n",
       "      <td>...</td>\n",
       "      <td>0</td>\n",
       "      <td>0</td>\n",
       "      <td>0</td>\n",
       "      <td>0</td>\n",
       "      <td>0</td>\n",
       "      <td>0</td>\n",
       "      <td>0</td>\n",
       "      <td>1</td>\n",
       "      <td>0</td>\n",
       "      <td>1</td>\n",
       "    </tr>\n",
       "    <tr>\n",
       "      <th>4</th>\n",
       "      <td>25</td>\n",
       "      <td>4</td>\n",
       "      <td>40</td>\n",
       "      <td>0</td>\n",
       "      <td>0</td>\n",
       "      <td>0</td>\n",
       "      <td>0</td>\n",
       "      <td>0</td>\n",
       "      <td>0</td>\n",
       "      <td>0</td>\n",
       "      <td>...</td>\n",
       "      <td>0</td>\n",
       "      <td>0</td>\n",
       "      <td>0</td>\n",
       "      <td>0</td>\n",
       "      <td>0</td>\n",
       "      <td>1</td>\n",
       "      <td>0</td>\n",
       "      <td>0</td>\n",
       "      <td>0</td>\n",
       "      <td>1</td>\n",
       "    </tr>\n",
       "  </tbody>\n",
       "</table>\n",
       "<p>5 rows × 48 columns</p>\n",
       "</div>"
      ],
      "text/plain": [
       "   age  educational-num  hours-per-week  income  workclass_Federal-gov  \\\n",
       "0   67               10              60       1                      0   \n",
       "1   17                2              15       0                      0   \n",
       "2   31                7              40       1                      0   \n",
       "3   58                1              40       0                      0   \n",
       "4   25                4              40       0                      0   \n",
       "\n",
       "   workclass_Local-gov  workclass_Never-worked  workclass_None  \\\n",
       "0                    0                       0               0   \n",
       "1                    0                       0               0   \n",
       "2                    0                       0               0   \n",
       "3                    0                       0               0   \n",
       "4                    0                       0               0   \n",
       "\n",
       "   workclass_Private  workclass_Self-emp-inc  ...  relationship_Own-child  \\\n",
       "0                  1                       0  ...                       0   \n",
       "1                  1                       0  ...                       1   \n",
       "2                  1                       0  ...                       0   \n",
       "3                  0                       0  ...                       0   \n",
       "4                  0                       0  ...                       0   \n",
       "\n",
       "   relationship_Unmarried  relationship_Wife  race_Amer-Indian-Eskimo  \\\n",
       "0                       0                  0                        0   \n",
       "1                       0                  0                        0   \n",
       "2                       0                  0                        0   \n",
       "3                       0                  0                        0   \n",
       "4                       0                  0                        0   \n",
       "\n",
       "   race_Asian-Pac-Islander  race_Black  race_Other  race_White  gender_Female  \\\n",
       "0                        0           0           0           1              0   \n",
       "1                        0           0           0           1              0   \n",
       "2                        0           0           0           1              0   \n",
       "3                        0           0           0           1              0   \n",
       "4                        0           1           0           0              0   \n",
       "\n",
       "   gender_Male  \n",
       "0            1  \n",
       "1            1  \n",
       "2            1  \n",
       "3            1  \n",
       "4            1  \n",
       "\n",
       "[5 rows x 48 columns]"
      ]
     },
     "execution_count": 110,
     "metadata": {},
     "output_type": "execute_result"
    }
   ],
   "source": [
    "# categorical_col = ['workclass', 'marital-status', 'occupation', 'relationship', 'race', 'gender','edu']\n",
    "# 원핫 인코딩\n",
    "df = pd.get_dummies(train)\n",
    "df.head()"
   ]
  },
  {
   "cell_type": "code",
   "execution_count": 111,
   "id": "de2e6954",
   "metadata": {},
   "outputs": [
    {
     "data": {
      "text/plain": [
       "(39407, 48)"
      ]
     },
     "execution_count": 111,
     "metadata": {},
     "output_type": "execute_result"
    }
   ],
   "source": [
    "df.shape"
   ]
  },
  {
   "cell_type": "markdown",
   "id": "0c43f8fa",
   "metadata": {},
   "source": [
    "# Data Visualization"
   ]
  },
  {
   "cell_type": "markdown",
   "id": "50165513",
   "metadata": {},
   "source": [
    "ax = sns.countplot(x=\"income\", data=data)\n",
    "\n",
    "ax.set_xticklabels(ax.get_xticklabels(), ha=\"right\")\n",
    "plt.tight_layout()\n",
    "plt.show()"
   ]
  },
  {
   "cell_type": "code",
   "execution_count": 42,
   "id": "80fe867c",
   "metadata": {},
   "outputs": [],
   "source": [
    "obj_col = ['workclass',\n",
    "         'education',\n",
    "         'marital-status',\n",
    "         'occupation',\n",
    "         'relationship',\n",
    "         'race',\n",
    "         'gender',]"
   ]
  },
  {
   "cell_type": "code",
   "execution_count": 43,
   "id": "3904fb8c",
   "metadata": {},
   "outputs": [
    {
     "data": {
      "image/png": "[encoded data removed]",
      "text/plain": [
       "<Figure size 576x432 with 1 Axes>"
      ]
     },
     "metadata": {
      "needs_background": "light"
     },
     "output_type": "display_data"
    }
   ],
   "source": [
    "plt.figure(figsize=(8,6))\n",
    "ax = sns.countplot(data = train, x ='race' )\n",
    "ax.set_xticklabels(ax.get_xticklabels(),rotation = 40 ,ha=\"right\")\n",
    "plt.tight_layout()\n",
    "plt.show()"
   ]
  },
  {
   "cell_type": "markdown",
   "id": "65ea063c",
   "metadata": {},
   "source": [
    "# Test Train Spilt"
   ]
  },
  {
   "cell_type": "code",
   "execution_count": 112,
   "id": "b83c3f23",
   "metadata": {},
   "outputs": [],
   "source": [
    "X = df.drop(columns = 'educational-num')\n",
    "y = df['educational-num']\n",
    "# y = df[['educational-num']]"
   ]
  },
  {
   "cell_type": "code",
   "execution_count": 113,
   "id": "06ba4c60",
   "metadata": {},
   "outputs": [],
   "source": [
    "X_train, X_test, y_train, y_test = train_test_split(X, y, test_size = 0.01, random_state = 42, stratify = y)"
   ]
  },
  {
   "cell_type": "code",
   "execution_count": 114,
   "id": "8a21ad0c",
   "metadata": {},
   "outputs": [
    {
     "name": "stdout",
     "output_type": "stream",
     "text": [
      "(39012, 47)\n",
      "(395, 47)\n"
     ]
    }
   ],
   "source": [
    "print(X_train.shape)\n",
    "print(X_test.shape)"
   ]
  },
  {
   "cell_type": "markdown",
   "id": "1fd6262a",
   "metadata": {},
   "source": [
    "# Classification"
   ]
  },
  {
   "cell_type": "code",
   "execution_count": 115,
   "id": "cd8e581a",
   "metadata": {},
   "outputs": [
    {
     "data": {
      "text/plain": [
       "DecisionTreeClassifier()"
      ]
     },
     "execution_count": 115,
     "metadata": {},
     "output_type": "execute_result"
    }
   ],
   "source": [
    "classifier1 = DecisionTreeClassifier(criterion='gini')  \n",
    "classifier1.fit(X_train, y_train)"
   ]
  },
  {
   "cell_type": "code",
   "execution_count": 116,
   "id": "0b3d4e3a",
   "metadata": {},
   "outputs": [
    {
     "name": "stdout",
     "output_type": "stream",
     "text": [
      "[ 7  8  3  4  4  6  3  3  7  3  4  2  4  3  4  4  6  2  2  2  3  2  2  3\n",
      "  5  4  3  5  4  8  1  3  4  7  4  2  3  3  6  3  4  7  3  3  3  4  7  4\n",
      "  4  2  7  3  1  8  7  2 10  3  2  7  3  5  7  3  4  2  3  3  7  7  6  3\n",
      "  8  3  8  0  4  3  3  4  1  8  3  7  6  4  3  3  3  3  3  3  1  3  7  3\n",
      "  4  1  3  3  8  4  5  3  2  8  3  7  3  2  4  4  8  6  2  7  9  2  2  2\n",
      "  3  3  3  3  2  3  2  4  2  4  3  4  7  1  7  4  2  4  3  2  7  4  3  7\n",
      "  2  3  4  4  4  9  3  4  2  3  4  8  3  2  3  3  4  3  3  2 10  2  1  7\n",
      "  4  9  2  7  3  0  3  5  3  4  8  7  7  6  7  4  3  4  7  3  2  3  3  6\n",
      "  2  8  3  4  4  4  3  3  4  3  3  4  3  7  6  7  3  3  3  3  2  3  4  3\n",
      "  7  7  1 10  6  3  4  4  3  4  3  3  3  8  5  3  1  7  3  7  6  3  8  6\n",
      "  2  3  4  3  1  3  3  3  7  4  3  3  4  6  3  3  6  7  4  3  3  2  3  7\n",
      "  7  7  7  4  3  3  3  3  4  3  4  4  3  3  7  1  5  7  4  3  3  3  3  3\n",
      "  4  4  5  7  7  3  2  7  3  9  7  4  3  5  3  4  1  3  4  8  2  7  3  3\n",
      "  3  7  3  8  4  3  8  4  4  3  3  3  7  3  7  3  4  1  7  7  3  3  3  7\n",
      "  4  4  4  7  0  2  4  4  6  2  7  7  3  3  7  4  4  7  3  3  3  4  3  3\n",
      "  7  7  3  3  3  7  4  1  4  3  7  2  7  7  7  1  7  8  7  7  3  4  3  4\n",
      "  3  3  5  4  4 10  7  5  7  7  5]\n"
     ]
    }
   ],
   "source": [
    "y_pred_1 = classifier1.predict(X_test)  \n",
    "print(y_pred_1)"
   ]
  },
  {
   "cell_type": "code",
   "execution_count": 117,
   "id": "1ef2caae",
   "metadata": {},
   "outputs": [
    {
     "name": "stdout",
     "output_type": "stream",
     "text": [
      "Accuracy for Gini model 33.164556962025316 %\n",
      "[[ 1  0  0  1  0  0  0  0  0  0  0]\n",
      " [ 0  1  2  9  0  0  0  0  0  0  0]\n",
      " [ 0  1 12 13  2  1  1  1  0  0  0]\n",
      " [ 2  8 15 55 24  4  2 16  4  0  1]\n",
      " [ 0  2  5 34 32  3  6  6  1  2  0]\n",
      " [ 0  0  0  5  5  0  1  6  0  0  0]\n",
      " [ 0  0  1  5  2  1  0  3  0  0  1]\n",
      " [ 0  1  2 13 12  2  3 24  8  0  0]\n",
      " [ 0  2  1  4  1  0  2  7  3  0  1]\n",
      " [ 0  0  0  0  1  0  0  4  0  2  0]\n",
      " [ 0  0  0  0  0  1  0  1  2  0  1]]\n"
     ]
    }
   ],
   "source": [
    "from sklearn.metrics import accuracy_score\n",
    "\n",
    "acc_1 = accuracy_score(y_test,y_pred_1)\n",
    "print(\"Accuracy for Gini model {} %\".format(acc_1*100))\n",
    "\n",
    "from sklearn.metrics import classification_report, confusion_matrix  \n",
    "print(confusion_matrix(y_test, y_pred_1))\n"
   ]
  },
  {
   "cell_type": "markdown",
   "id": "07d5c675",
   "metadata": {},
   "source": [
    "print(y_pred_1)"
   ]
  },
  {
   "cell_type": "code",
   "execution_count": 118,
   "id": "6621383b",
   "metadata": {},
   "outputs": [
    {
     "name": "stdout",
     "output_type": "stream",
     "text": [
      "Accuracy for KNN model 30.37974683544304 %\n",
      "[[ 1  0  0  1  0  0  0  0  0  0  0]\n",
      " [ 1  0  3  5  2  0  0  1  0  0  0]\n",
      " [ 0  0 10 12  7  0  0  2  0  0  0]\n",
      " [ 1 13 14 67 27  0  0  9  0  0  0]\n",
      " [ 0  2 14 44 18  1  1 10  1  0  0]\n",
      " [ 0  2  0  7  6  0  0  2  0  0  0]\n",
      " [ 0  0  2  5  2  0  0  4  0  0  0]\n",
      " [ 0  3  6 21 15  1  1 17  1  0  0]\n",
      " [ 0  3  0  6  2  0  2  4  4  0  0]\n",
      " [ 0  0  0  0  1  0  0  3  0  2  1]\n",
      " [ 0  0  0  1  1  0  0  2  0  0  1]]\n"
     ]
    }
   ],
   "source": [
    "from sklearn.neighbors import KNeighborsClassifier\n",
    "\n",
    "\n",
    "classifier2 = KNeighborsClassifier(n_neighbors= 3)  \n",
    "classifier2.fit(X_train, y_train) \n",
    "\n",
    "y_pred_2 = classifier2.predict(X_test)  \n",
    "\n",
    "acc_2 = accuracy_score(y_test,y_pred_2)\n",
    "print(\"Accuracy for KNN model {} %\".format(acc_2*100))\n",
    "print(confusion_matrix(y_test, y_pred_2))"
   ]
  },
  {
   "cell_type": "code",
   "execution_count": 119,
   "id": "aa08591f",
   "metadata": {},
   "outputs": [
    {
     "name": "stdout",
     "output_type": "stream",
     "text": [
      "Accuracy for LR model 39.74683544303797 %\n",
      "[[  0   0   0   2   0   0   0   0   0   0   0]\n",
      " [  0   0   0  10   2   0   0   0   0   0   0]\n",
      " [  0   0   0  19  11   0   0   1   0   0   0]\n",
      " [  0   0   0 102  16   0   0  13   0   0   0]\n",
      " [  0   0   0  54  25   0   0  12   0   0   0]\n",
      " [  0   0   0   9   4   0   0   4   0   0   0]\n",
      " [  0   0   0   6   4   0   0   3   0   0   0]\n",
      " [  0   0   0  19  14   0   0  29   3   0   0]\n",
      " [  0   0   0   3   2   0   0  15   1   0   0]\n",
      " [  0   0   0   0   0   0   0   7   0   0   0]\n",
      " [  0   0   0   0   0   0   0   5   0   0   0]]\n"
     ]
    },
    {
     "name": "stderr",
     "output_type": "stream",
     "text": [
      "C:\\Users\\yoond\\anaconda3\\lib\\site-packages\\sklearn\\linear_model\\_logistic.py:763: ConvergenceWarning: lbfgs failed to converge (status=1):\n",
      "STOP: TOTAL NO. of ITERATIONS REACHED LIMIT.\n",
      "\n",
      "Increase the number of iterations (max_iter) or scale the data as shown in:\n",
      "    https://scikit-learn.org/stable/modules/preprocessing.html\n",
      "Please also refer to the documentation for alternative solver options:\n",
      "    https://scikit-learn.org/stable/modules/linear_model.html#logistic-regression\n",
      "  n_iter_i = _check_optimize_result(\n"
     ]
    }
   ],
   "source": [
    "from sklearn.linear_model import LogisticRegression\n",
    "classifier3 = LogisticRegression(random_state=0)\n",
    "classifier3.fit(X_train, y_train) \n",
    "\n",
    "y_pred_3 = classifier3.predict(X_test)  \n",
    "\n",
    "acc_3 = accuracy_score(y_test,y_pred_3)\n",
    "print(\"Accuracy for LR model {} %\".format(acc_3*100))\n",
    "print(confusion_matrix(y_test, y_pred_3))"
   ]
  },
  {
   "cell_type": "code",
   "execution_count": 120,
   "id": "4a2b88d5",
   "metadata": {},
   "outputs": [
    {
     "name": "stdout",
     "output_type": "stream",
     "text": [
      "Accuracy for Gradient Boost model 43.037974683544306 %\n",
      "[[  0   0   0   2   0   0   0   0   0   0   0]\n",
      " [  0   0   1  11   0   0   0   0   0   0   0]\n",
      " [  0   0   9  18   3   0   0   1   0   0   0]\n",
      " [  0   0   2 103  12   0   0  14   0   0   0]\n",
      " [  0   0   3  63  11   0   0  13   1   0   0]\n",
      " [  0   0   0  10   1   0   0   6   0   0   0]\n",
      " [  0   0   0   5   1   0   0   7   0   0   0]\n",
      " [  0   0   0  21   2   0   0  38   4   0   0]\n",
      " [  0   0   0   5   0   0   0  11   3   1   1]\n",
      " [  0   0   0   0   0   0   0   2   1   4   0]\n",
      " [  0   0   0   0   0   0   0   3   0   0   2]]\n"
     ]
    }
   ],
   "source": [
    "from sklearn.ensemble import GradientBoostingClassifier  \n",
    "\n",
    "classifier4 = GradientBoostingClassifier()  \n",
    "classifier4.fit(X_train, y_train) \n",
    "\n",
    "y_pred_4 = classifier4.predict(X_test)  \n",
    "\n",
    "acc_4 = accuracy_score(y_test,y_pred_4)\n",
    "print(\"Accuracy for Gradient Boost model {} %\".format(acc_4*100))\n",
    "print(confusion_matrix(y_test, y_pred_4))"
   ]
  },
  {
   "cell_type": "code",
   "execution_count": 121,
   "id": "24df22ed",
   "metadata": {},
   "outputs": [
    {
     "name": "stdout",
     "output_type": "stream",
     "text": [
      "Accuracy for Random Forest model 36.45569620253165 %\n",
      "[[ 0  0  0  2  0  0  0  0  0  0  0]\n",
      " [ 0  1  2  8  1  0  0  0  0  0  0]\n",
      " [ 0  0 12 12  4  0  1  2  0  0  0]\n",
      " [ 1  2  8 73 22  4  3 15  1  0  2]\n",
      " [ 0  1  6 41 23  4  5  9  1  1  0]\n",
      " [ 0  0  0  5  5  1  0  4  1  1  0]\n",
      " [ 0  1  0  4  1  2  0  5  0  0  0]\n",
      " [ 0  0  0 13 15  3  1 28  5  0  0]\n",
      " [ 0  1  1  4  1  0  0  9  3  0  2]\n",
      " [ 0  0  0  0  1  0  0  4  0  2  0]\n",
      " [ 0  0  0  0  0  1  0  1  1  1  1]]\n"
     ]
    }
   ],
   "source": [
    "from sklearn.ensemble import RandomForestClassifier  \n",
    "\n",
    "classifier5 = RandomForestClassifier()  \n",
    "classifier5.fit(X_train, y_train) \n",
    "\n",
    "y_pred_5 = classifier5.predict(X_test)  \n",
    "\n",
    "acc_5 = accuracy_score(y_test,y_pred_5)\n",
    "print(\"Accuracy for Random Forest model {} %\".format(acc_5*100))\n",
    "print(confusion_matrix(y_test, y_pred_5))"
   ]
  },
  {
   "cell_type": "code",
   "execution_count": 22,
   "id": "1ed0d13d",
   "metadata": {},
   "outputs": [
    {
     "name": "stdout",
     "output_type": "stream",
     "text": [
      "   Pred1  Pred2  Pred3  Pred4  Pred5  Sum  Final\n",
      "0      7      3      9      9      3   31      1\n",
      "1      9      9      9      9      9   45      1\n",
      "2      2      2      9      9      2   24      1\n",
      "3      6      9      9      9      9   42      1\n",
      "4     14     13     13     13     14   67      1\n"
     ]
    }
   ],
   "source": [
    "from sklearn.metrics import f1_score\n",
    "\n",
    "ensemble_df = pd.DataFrame()\n",
    "ensemble_df['Pred1'] = y_pred_1\n",
    "ensemble_df['Pred2'] = y_pred_2\n",
    "ensemble_df['Pred3'] = y_pred_3\n",
    "ensemble_df['Pred4'] = y_pred_4\n",
    "ensemble_df['Pred5'] = y_pred_5\n",
    "ensemble_df['Sum'] = ensemble_df.sum(axis = 1)\n",
    "ensemble_df['Final'] = ensemble_df['Sum'] > 2 \n",
    "ensemble_df['Final'] = ensemble_df['Final'].astype(int)\n",
    "\n",
    "print(ensemble_df.head())\n"
   ]
  },
  {
   "cell_type": "code",
   "execution_count": 29,
   "id": "ebb1da44",
   "metadata": {
    "scrolled": true
   },
   "outputs": [
    {
     "name": "stdout",
     "output_type": "stream",
     "text": [
      "Accuracy for Emsemble model 0.22727272727272727 %\n",
      "[[  1   0   0   0   0   0   0   0   0   0   0   0   0   0   0   0]\n",
      " [  2   0   0   0   0   0   0   0   0   0   0   0   0   0   0   0]\n",
      " [  5   0   0   0   0   0   0   0   0   0   0   0   0   0   0   0]\n",
      " [  9   0   0   0   0   0   0   0   0   0   0   0   0   0   0   0]\n",
      " [  7   0   0   0   0   0   0   0   0   0   0   0   0   0   0   0]\n",
      " [ 13   0   0   0   0   0   0   0   0   0   0   0   0   0   0   0]\n",
      " [ 16   0   0   0   0   0   0   0   0   0   0   0   0   0   0   0]\n",
      " [  6   0   0   0   0   0   0   0   0   0   0   0   0   0   0   0]\n",
      " [142   0   0   0   0   0   0   0   0   0   0   0   0   0   0   0]\n",
      " [ 98   0   0   0   0   0   0   0   0   0   0   0   0   0   0   0]\n",
      " [ 18   0   0   0   0   0   0   0   0   0   0   0   0   0   0   0]\n",
      " [ 14   0   0   0   0   0   0   0   0   0   0   0   0   0   0   0]\n",
      " [ 72   0   0   0   0   0   0   0   0   0   0   0   0   0   0   0]\n",
      " [ 24   0   0   0   0   0   0   0   0   0   0   0   0   0   0   0]\n",
      " [  8   0   0   0   0   0   0   0   0   0   0   0   0   0   0   0]\n",
      " [  5   0   0   0   0   0   0   0   0   0   0   0   0   0   0   0]]\n",
      "f1 Score --> 0.0022727272727272726\n"
     ]
    }
   ],
   "source": [
    "acc = accuracy_score(y_test,ensemble_df['Final'])\n",
    "print(\"Accuracy for Emsemble model {} %\".format(acc*100))\n",
    "print(confusion_matrix(y_test,ensemble_df['Final']))\n"
   ]
  },
  {
   "cell_type": "code",
   "execution_count": 31,
   "id": "a9986df8",
   "metadata": {},
   "outputs": [
    {
     "name": "stdout",
     "output_type": "stream",
     "text": [
      "f1 Score --> [0.00453515 0.         0.         0.         0.         0.\n",
      " 0.         0.         0.         0.         0.         0.\n",
      " 0.         0.         0.         0.        ]\n",
      "f1 Score --> 0.0022727272727272726\n",
      "f1 Score --> 0.0002834467120181406\n",
      "f1 Score --> 1.0307153164296021e-05\n"
     ]
    }
   ],
   "source": [
    "print('f1 Score -->' ,f1_score(y_test,ensemble_df['Final'], average = None))\n",
    "print('f1 Score -->' ,f1_score(y_test,ensemble_df['Final'], average = 'micro'))\n",
    "print('f1 Score -->' ,f1_score(y_test,ensemble_df['Final'], average = 'macro'))\n",
    "print('f1 Score -->' ,f1_score(y_test,ensemble_df['Final'], average = 'weighted'))\n",
    "# print('f1 Score -->' ,f1_score(y_test,ensemble_df['Final'], average = 'samples'))"
   ]
  },
  {
   "cell_type": "code",
   "execution_count": null,
   "id": "3b08bede",
   "metadata": {},
   "outputs": [],
   "source": []
  },
  {
   "cell_type": "code",
   "execution_count": 25,
   "id": "f68dfa2d",
   "metadata": {},
   "outputs": [],
   "source": [
    "f1_score?"
   ]
  },
  {
   "cell_type": "markdown",
   "id": "2d9a3a7e",
   "metadata": {},
   "source": [
    "# "
   ]
  }
 ],
 "metadata": {
  "kernelspec": {
   "display_name": "Python 3",
   "language": "python",
   "name": "python3"
  },
  "language_info": {
   "codemirror_mode": {
    "name": "ipython",
    "version": 3
   },
   "file_extension": ".py",
   "mimetype": "text/x-python",
   "name": "python",
   "nbconvert_exporter": "python",
   "pygments_lexer": "ipython3",
   "version": "3.8.8"
  }
 },
 "nbformat": 4,
 "nbformat_minor": 5
}
